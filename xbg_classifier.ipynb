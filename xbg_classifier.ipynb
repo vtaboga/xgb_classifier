{
 "cells": [
  {
   "cell_type": "code",
   "execution_count": 2,
   "metadata": {},
   "outputs": [],
   "source": [
    "import pandas as pd\n",
    "import numpy as np\n",
    "\n",
    "import gc \n",
    "\n",
    "import sklearn as skl\n",
    "from sklearn import preprocessing\n",
    "from sklearn.model_selection import StratifiedKFold\n",
    "from sklearn.metrics import roc_auc_score\n",
    "\n",
    "import category_encoders as ce\n",
    "\n",
    "import xgboost as xgb\n",
    "from xgboost.sklearn import XGBClassifier\n",
    "\n",
    "import warnings\n",
    "warnings.simplefilter(action='ignore', category=FutureWarning)"
   ]
  },
  {
   "cell_type": "markdown",
   "metadata": {},
   "source": [
    "# Importing data"
   ]
  },
  {
   "cell_type": "markdown",
   "metadata": {},
   "source": [
    "We first import data from previoulsy modify data set using featuretools\n",
    "see https://www.kaggle.com/willkoehrsen/automated-feature-engineering-basics/notebook\n",
    "the list of important features comes from lgbm analysis"
   ]
  },
  {
   "cell_type": "code",
   "execution_count": 3,
   "metadata": {},
   "outputs": [],
   "source": [
    "#important_features = pd.read_csv('csv_files/important_features.csv')\n",
    "training_set = pd.read_csv('csv_files/feature_matrix_spec_train.csv',nrows=8000)\n",
    "test_set = pd.read_csv('csv_files/feature_matrix_spec_test.csv')"
   ]
  },
  {
   "cell_type": "code",
   "execution_count": 4,
   "metadata": {},
   "outputs": [],
   "source": [
    "training_set = training_set.drop(columns=[\"set\"],axis=1)\n",
    "test_set = test_set.drop(columns=['set'],axis=1)"
   ]
  },
  {
   "cell_type": "markdown",
   "metadata": {},
   "source": [
    "# Shaping data"
   ]
  },
  {
   "cell_type": "code",
   "execution_count": 5,
   "metadata": {},
   "outputs": [],
   "source": [
    "def missing_data(data) :\n",
    "    \"\"\"compute the number and the percentage of missing values per columns\"\"\"\n",
    "    nb_missing_values = data.isnull().sum().sort_values(ascending = False) #count the number of missing values\n",
    "    percent = (data.isnull().sum()/data.isnull().count()*100).sort_values(ascending = False) #percentage of missing values\n",
    "    return pd.concat([nb_missing_values, percent], axis=1, keys=['total' , 'Percent'])"
   ]
  },
  {
   "cell_type": "code",
   "execution_count": 6,
   "metadata": {},
   "outputs": [],
   "source": [
    "def one_hot_encoding(data):\n",
    "    \"\"\"Transform object variables using get_dummies function\"\"\"\n",
    "    obj_variables = [col for col in data if data[col].dtype=='object']\n",
    "    data = pd.get_dummies(data=data, columns = obj_variables, dummy_na=True)\n",
    "    print( str(len(obj_variables))+ ' object features have been modified')\n",
    "    return data"
   ]
  },
  {
   "cell_type": "code",
   "execution_count": 7,
   "metadata": {},
   "outputs": [],
   "source": [
    "def missing_features(data1,data2):\n",
    "    \"\"\"spot features (columns) present in data1 and not in data2\"\"\"\n",
    "    diff_features = []\n",
    "    \n",
    "    for col in data1:\n",
    "        present=0\n",
    "        for col2 in data2:\n",
    "            if col == col2:\n",
    "                present=1\n",
    "        if present == 0 :\n",
    "            diff_features.append(col)\n",
    "    return(diff_features)"
   ]
  },
  {
   "cell_type": "code",
   "execution_count": 8,
   "metadata": {},
   "outputs": [],
   "source": [
    "def xgb_training_routine(data,k_folds) :\n",
    "    \n",
    "    #variables to store the results:\n",
    "    acc = 0 #accuracy on validation set\n",
    "    val_pred=np.zeros(data.shape[0])\n",
    "    \n",
    "    #generate folds to split data into training and validation_set :\n",
    "    folds = StratifiedKFold(n_splits=k_folds,shuffle=True,random_state=2018)\n",
    "    \n",
    "    fold_number = 0\n",
    "    for train_index, val_index in folds.split(training_set.drop(['SK_ID_CURR','TARGET'],axis=1), training_set[['TARGET']]):\n",
    "        fold_number+=1\n",
    "        print('############# process fold '+str(fold_number)+' #############')\n",
    "        #split data set\n",
    "        train_set = training_set.drop(['SK_ID_CURR','TARGET'],axis=1).iloc[train_index]\n",
    "        train_target = training_set[['TARGET']].iloc[train_index]\n",
    "        val_set = training_set.drop(['SK_ID_CURR','TARGET'],axis=1).iloc[val_index]\n",
    "        val_target = training_set[['TARGET']].iloc[val_index]\n",
    "        \n",
    "        #define classifier\n",
    "        xgb_clf = XGBClassifier(learning_rate =0.01, n_estimators=10000, max_depth=4, min_child_weight=5, \n",
    "                                subsample=0.8, colsample_bytree=0.8, objective= 'binary:logistic', \n",
    "                                nthread=4, scale_pos_weight=2.5, seed=27, reg_lambda = 1.2)\n",
    "        \n",
    "        #fiting the classifier\n",
    "        xgb_clf.fit(train_set,train_target,eval_set=[(val_set,val_target)],\n",
    "                    eval_metric='auc',early_stopping_rounds=100,verbose=100)\n",
    "        \n",
    "        #predictions on validation set\n",
    "        val_pred[val_index] = xgb_clf.predict_proba(val_set)[:, 1]\n",
    "        \n",
    "        #accuracy on validation set\n",
    "        new_acc = roc_auc_score(val_target, val_pred[val_index])\n",
    "        print('Fold %2d AUC : %.6f' % (fold_number, new_acc))\n",
    "        \n",
    "        if new_acc>acc :\n",
    "            acc = new_acc\n",
    "            best_clf = xgb_clf #keep the best classifier\n",
    "        reg_clf = xgb_clf\n",
    "        \n",
    "        del train_set,train_target,val_set,val_target,xgb_clf\n",
    "        \n",
    "    return(best_clf,reg_clf)"
   ]
  },
  {
   "cell_type": "markdown",
   "metadata": {},
   "source": [
    "## Processing"
   ]
  },
  {
   "cell_type": "code",
   "execution_count": 9,
   "metadata": {},
   "outputs": [
    {
     "name": "stdout",
     "output_type": "stream",
     "text": [
      "41 object features have been modified\n",
      "41 object features have been modified\n"
     ]
    }
   ],
   "source": [
    "#one hot encoding\n",
    "training_set = one_hot_encoding(training_set)\n",
    "test_set = one_hot_encoding(test_set)"
   ]
  },
  {
   "cell_type": "code",
   "execution_count": 10,
   "metadata": {},
   "outputs": [
    {
     "name": "stdout",
     "output_type": "stream",
     "text": [
      "the folowing features have been removed from training set :\n",
      "[]\n",
      "the folowing features have been removed from test set :\n",
      "['NAME_INCOME_TYPE_Businessman', 'NAME_INCOME_TYPE_Student', 'MODE(bureau.CREDIT_ACTIVE)_Bad debt', 'MODE(previous_app.NAME_GOODS_CATEGORY)_Additional Service', 'MODE(previous_app.CODE_REJECT_REASON)_SYSTEM', 'MODE(bureau.CREDIT_TYPE)_Cash loan (non-earmarked)', 'MODE(bureau.CREDIT_TYPE)_Loan for working capital replenishment', 'MODE(bureau.CREDIT_TYPE)_Unknown type of loan', 'MODE(cash.NAME_CONTRACT_STATUS)_Approved', 'MODE(previous_app.NAME_CASH_LOAN_PURPOSE)_Gasification / water supply', 'MODE(previous_app.NAME_CASH_LOAN_PURPOSE)_Hobby', 'MODE(previous_app.NAME_CASH_LOAN_PURPOSE)_Journey', 'MODE(previous_app.MODE(cash.NAME_CONTRACT_STATUS))_Demand']\n"
     ]
    }
   ],
   "source": [
    "#spot columns present in training set and not in test set\n",
    "\n",
    "diff_features_train = missing_features(training_set,test_set)\n",
    "print('the folowing features have been removed from training set :')\n",
    "print(diff_features_train)\n",
    "\n",
    "#remove missing columns\n",
    "training_set = training_set.drop(diff_features_train, axis=1)\n",
    "\n",
    "#spot columns present in test set and not in training set\n",
    "\n",
    "diff_features_test = missing_features(test_set,training_set)\n",
    "print('the folowing features have been removed from test set :')\n",
    "print(diff_features_test)\n",
    "\n",
    "#remove missing columns\n",
    "test_set = test_set.drop(diff_features_test, axis = 1)"
   ]
  },
  {
   "cell_type": "code",
   "execution_count": 11,
   "metadata": {},
   "outputs": [
    {
     "name": "stdout",
     "output_type": "stream",
     "text": [
      "############# process fold 1 #############\n"
     ]
    },
    {
     "name": "stderr",
     "output_type": "stream",
     "text": [
      "/home/taboga/virtualenvs/env1/lib/python3.5/site-packages/sklearn/preprocessing/label.py:95: DataConversionWarning: A column-vector y was passed when a 1d array was expected. Please change the shape of y to (n_samples, ), for example using ravel().\n",
      "  y = column_or_1d(y, warn=True)\n",
      "/home/taboga/virtualenvs/env1/lib/python3.5/site-packages/sklearn/preprocessing/label.py:128: DataConversionWarning: A column-vector y was passed when a 1d array was expected. Please change the shape of y to (n_samples, ), for example using ravel().\n",
      "  y = column_or_1d(y, warn=True)\n"
     ]
    },
    {
     "name": "stdout",
     "output_type": "stream",
     "text": [
      "[0]\tvalidation_0-auc:0.685769\n",
      "Will train until validation_0-auc hasn't improved in 100 rounds.\n",
      "[100]\tvalidation_0-auc:0.747527\n",
      "[200]\tvalidation_0-auc:0.756335\n",
      "[300]\tvalidation_0-auc:0.760742\n",
      "[400]\tvalidation_0-auc:0.762646\n",
      "[500]\tvalidation_0-auc:0.765844\n",
      "[600]\tvalidation_0-auc:0.765869\n",
      "Stopping. Best iteration:\n",
      "[536]\tvalidation_0-auc:0.767424\n",
      "\n",
      "Fold  1 AUC : 0.766491\n",
      "############# process fold 2 #############\n"
     ]
    },
    {
     "name": "stderr",
     "output_type": "stream",
     "text": [
      "/home/taboga/virtualenvs/env1/lib/python3.5/site-packages/sklearn/preprocessing/label.py:95: DataConversionWarning: A column-vector y was passed when a 1d array was expected. Please change the shape of y to (n_samples, ), for example using ravel().\n",
      "  y = column_or_1d(y, warn=True)\n",
      "/home/taboga/virtualenvs/env1/lib/python3.5/site-packages/sklearn/preprocessing/label.py:128: DataConversionWarning: A column-vector y was passed when a 1d array was expected. Please change the shape of y to (n_samples, ), for example using ravel().\n",
      "  y = column_or_1d(y, warn=True)\n"
     ]
    },
    {
     "name": "stdout",
     "output_type": "stream",
     "text": [
      "[0]\tvalidation_0-auc:0.623578\n",
      "Will train until validation_0-auc hasn't improved in 100 rounds.\n",
      "[100]\tvalidation_0-auc:0.725765\n",
      "[200]\tvalidation_0-auc:0.741135\n",
      "[300]\tvalidation_0-auc:0.750425\n",
      "[400]\tvalidation_0-auc:0.7558\n",
      "[500]\tvalidation_0-auc:0.755912\n",
      "[600]\tvalidation_0-auc:0.756446\n",
      "Stopping. Best iteration:\n",
      "[557]\tvalidation_0-auc:0.756985\n",
      "\n",
      "Fold  2 AUC : 0.755961\n",
      "############# process fold 3 #############\n"
     ]
    },
    {
     "name": "stderr",
     "output_type": "stream",
     "text": [
      "/home/taboga/virtualenvs/env1/lib/python3.5/site-packages/sklearn/preprocessing/label.py:95: DataConversionWarning: A column-vector y was passed when a 1d array was expected. Please change the shape of y to (n_samples, ), for example using ravel().\n",
      "  y = column_or_1d(y, warn=True)\n",
      "/home/taboga/virtualenvs/env1/lib/python3.5/site-packages/sklearn/preprocessing/label.py:128: DataConversionWarning: A column-vector y was passed when a 1d array was expected. Please change the shape of y to (n_samples, ), for example using ravel().\n",
      "  y = column_or_1d(y, warn=True)\n"
     ]
    },
    {
     "name": "stdout",
     "output_type": "stream",
     "text": [
      "[0]\tvalidation_0-auc:0.69181\n",
      "Will train until validation_0-auc hasn't improved in 100 rounds.\n",
      "[100]\tvalidation_0-auc:0.745792\n",
      "[200]\tvalidation_0-auc:0.746827\n",
      "[300]\tvalidation_0-auc:0.749699\n",
      "[400]\tvalidation_0-auc:0.755429\n",
      "[500]\tvalidation_0-auc:0.754943\n",
      "Stopping. Best iteration:\n",
      "[439]\tvalidation_0-auc:0.755999\n",
      "\n",
      "Fold  3 AUC : 0.754683\n",
      "############# process fold 4 #############\n"
     ]
    },
    {
     "name": "stderr",
     "output_type": "stream",
     "text": [
      "/home/taboga/virtualenvs/env1/lib/python3.5/site-packages/sklearn/preprocessing/label.py:95: DataConversionWarning: A column-vector y was passed when a 1d array was expected. Please change the shape of y to (n_samples, ), for example using ravel().\n",
      "  y = column_or_1d(y, warn=True)\n",
      "/home/taboga/virtualenvs/env1/lib/python3.5/site-packages/sklearn/preprocessing/label.py:128: DataConversionWarning: A column-vector y was passed when a 1d array was expected. Please change the shape of y to (n_samples, ), for example using ravel().\n",
      "  y = column_or_1d(y, warn=True)\n"
     ]
    },
    {
     "name": "stdout",
     "output_type": "stream",
     "text": [
      "[0]\tvalidation_0-auc:0.673121\n",
      "Will train until validation_0-auc hasn't improved in 100 rounds.\n",
      "[100]\tvalidation_0-auc:0.747661\n",
      "[200]\tvalidation_0-auc:0.758114\n",
      "[300]\tvalidation_0-auc:0.759448\n",
      "[400]\tvalidation_0-auc:0.76283\n",
      "[500]\tvalidation_0-auc:0.765649\n",
      "[600]\tvalidation_0-auc:0.766125\n",
      "Stopping. Best iteration:\n",
      "[598]\tvalidation_0-auc:0.766128\n",
      "\n",
      "Fold  4 AUC : 0.764995\n"
     ]
    }
   ],
   "source": [
    "best_clf, reg_clf = xgb_training_routine(training_set,4)"
   ]
  },
  {
   "cell_type": "markdown",
   "metadata": {},
   "source": [
    "## Predictions"
   ]
  },
  {
   "cell_type": "code",
   "execution_count": 12,
   "metadata": {},
   "outputs": [],
   "source": [
    "pred_proba = best_clf.predict_proba(test_set.drop(['TARGET','SK_ID_CURR'],axis=1))"
   ]
  },
  {
   "cell_type": "code",
   "execution_count": 13,
   "metadata": {},
   "outputs": [],
   "source": [
    "result_bc = pd.DataFrame({'SK_ID_CURR' : test_set['SK_ID_CURR'],'TARGET' : [row[1] for row in pred_proba]})"
   ]
  },
  {
   "cell_type": "code",
   "execution_count": 15,
   "metadata": {},
   "outputs": [],
   "source": [
    "result_bc.to_csv('results_bc.csv',index=False)"
   ]
  },
  {
   "cell_type": "code",
   "execution_count": 16,
   "metadata": {},
   "outputs": [],
   "source": [
    "pred_proba_2 = reg_clf.predict_proba(test_set.drop(['TARGET','SK_ID_CURR'],axis=1))"
   ]
  },
  {
   "cell_type": "code",
   "execution_count": 17,
   "metadata": {},
   "outputs": [],
   "source": [
    "result_reg = pd.DataFrame({'SK_ID_CURR' : test_set['SK_ID_CURR'],'TARGET' : [row[1] for row in pred_proba_2]})"
   ]
  },
  {
   "cell_type": "code",
   "execution_count": 18,
   "metadata": {},
   "outputs": [],
   "source": [
    "result_reg.to_csv('results_reg.csv',index=False)"
   ]
  },
  {
   "cell_type": "markdown",
   "metadata": {},
   "source": [
    "# Features analysis"
   ]
  },
  {
   "cell_type": "code",
   "execution_count": 20,
   "metadata": {},
   "outputs": [
    {
     "data": {
      "text/plain": [
       "<matplotlib.axes._subplots.AxesSubplot at 0x7f7b78d7d128>"
      ]
     },
     "execution_count": 20,
     "metadata": {},
     "output_type": "execute_result"
    },
    {
     "data": {
      "image/png": "[encoded data removed]",
      "text/plain": [
       "<matplotlib.figure.Figure at 0x7f7b78d99748>"
      ]
     },
     "metadata": {},
     "output_type": "display_data"
    }
   ],
   "source": [
    "feat_imp = pd.Series(best_clf.feature_importances_, index = training_set.drop(['SK_ID_CURR','TARGET'],axis = 1).columns)\n",
    "feat_imp.nlargest(20).plot(kind = 'barh' , figsize=(8,10))"
   ]
  },
  {
   "cell_type": "code",
   "execution_count": null,
   "metadata": {},
   "outputs": [],
   "source": []
  }
 ],
 "metadata": {
  "kernelspec": {
   "display_name": "Python 3",
   "language": "python",
   "name": "python3"
  },
  "language_info": {
   "codemirror_mode": {
    "name": "ipython",
    "version": 3
   },
   "file_extension": ".py",
   "mimetype": "text/x-python",
   "name": "python",
   "nbconvert_exporter": "python",
   "pygments_lexer": "ipython3",
   "version": "3.5.2"
  }
 },
 "nbformat": 4,
 "nbformat_minor": 2
}
